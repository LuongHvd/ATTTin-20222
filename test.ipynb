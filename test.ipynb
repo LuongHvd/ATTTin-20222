{
 "cells": [
  {
   "cell_type": "code",
   "execution_count": 3,
   "metadata": {},
   "outputs": [
    {
     "name": "stdout",
     "output_type": "stream",
     "text": [
      "[[[-1.0654233   1.89137028  0.80499804 -0.84518398 -0.73802228\n",
      "    0.37099572 -0.05839877 -0.90915806 -0.32671624 -0.28428911]\n",
      "  [ 0.39593229  0.79725741  0.33058679 -1.77768676 -0.58345621\n",
      "   -0.37020758  1.31883624 -0.04988994 -0.76456324  0.07281967]]]\n",
      "-1.7776867563238858\n"
     ]
    }
   ],
   "source": [
    "import numpy as np\n",
    "import tensorflow.compat.v1 as tf\n",
    "tf.disable_v2_behavior()\n",
    "\n",
    "individual = np.random.normal(0,1,[1,2,10])\n",
    "\n",
    "print(individual)\n",
    "print(individual[0][1][3])"
   ]
  }
 ],
 "metadata": {
  "kernelspec": {
   "display_name": "mlp",
   "language": "python",
   "name": "python3"
  },
  "language_info": {
   "codemirror_mode": {
    "name": "ipython",
    "version": 3
   },
   "file_extension": ".py",
   "mimetype": "text/x-python",
   "name": "python",
   "nbconvert_exporter": "python",
   "pygments_lexer": "ipython3",
   "version": "3.8.0"
  },
  "orig_nbformat": 4,
  "vscode": {
   "interpreter": {
    "hash": "e4393c9d6d9441d88a525da67a9570c3a48ebfcee88ab1ccb252bfc08504699c"
   }
  }
 },
 "nbformat": 4,
 "nbformat_minor": 2
}
